{
 "cells": [
  {
   "cell_type": "markdown",
   "id": "51bd8310",
   "metadata": {},
   "source": [
    "# Instructions"
   ]
  },
  {
   "cell_type": "markdown",
   "id": "fbc41937",
   "metadata": {},
   "source": [
    "### It is assumed that the mean systolic blood pressure is μ = 120 mm Hg. In the Honolulu Heart Study, a sample of n = 100 people had an average systolic blood pressure of 130.1 mm Hg with a standard deviation of 21.21 mm Hg. Is the group significantly different (with respect to systolic blood pressure!) from the regular population?\n",
    "\n",
    "### Set up the hypothesis test.\n",
    "### Write down all the steps followed for setting up the test.\n",
    "### Calculate the test statistic by hand and also code it in Python. It should be 4.76190. We will take a look at how to make decisions based on this calculated value."
   ]
  },
  {
   "cell_type": "code",
   "execution_count": 1,
   "id": "5db569ea",
   "metadata": {},
   "outputs": [],
   "source": [
    "from scipy.stats import ttest_1samp\n",
    "from scipy.stats import norm\n",
    "import math\n",
    "from scipy.stats import t"
   ]
  },
  {
   "cell_type": "code",
   "execution_count": 5,
   "id": "92ea52fd",
   "metadata": {},
   "outputs": [
    {
     "name": "stdout",
     "output_type": "stream",
     "text": [
      "Statistic is:  4.761904761904759\n",
      "P value is:  3.281350908546088e-06\n",
      "Critical Value of t is:  1.9842169515086827\n"
     ]
    }
   ],
   "source": [
    "pop_mean = 120\n",
    "sample_mean = 130.1\n",
    "sample_std = 21.21\n",
    "n = 100\n",
    "statistic = (sample_mean - pop_mean)/(sample_std/math.sqrt(n))\n",
    "print(\"Statistic is: \", statistic)\n",
    "print(\"P value is: \",1- t.cdf(statistic, n-1))\n",
    "print(\"Critical Value of t is: \", t.ppf(1 - 0.025, n-1))"
   ]
  },
  {
   "cell_type": "code",
   "execution_count": 3,
   "id": "71e986fa",
   "metadata": {},
   "outputs": [
    {
     "name": "stdout",
     "output_type": "stream",
     "text": [
      "Upper confidence interval limit is:  140.2\n",
      "Lower confidence interval limit is:  120.0\n"
     ]
    }
   ],
   "source": [
    "upperCI = sample_mean + statistic*sample_std/math.sqrt(n)\n",
    "print(\"Upper confidence interval limit is: \", upperCI)\n",
    "lowerCI = sample_mean - statistic*sample_std/math.sqrt(n)\n",
    "print(\"Lower confidence interval limit is: \", lowerCI)"
   ]
  },
  {
   "cell_type": "code",
   "execution_count": 4,
   "id": "23c2cd67",
   "metadata": {},
   "outputs": [
    {
     "data": {
      "text/plain": [
       "Ttest_1sampResult(statistic=4.866675258689151, pvalue=4.291380919401806e-06)"
      ]
     },
     "execution_count": 4,
     "metadata": {},
     "output_type": "execute_result"
    }
   ],
   "source": [
    "rvs = norm.rvs(130.1, 21.21, 100)\n",
    "ttest_1samp(rvs, 120)"
   ]
  }
 ],
 "metadata": {
  "kernelspec": {
   "display_name": "Python 3",
   "language": "python",
   "name": "python3"
  },
  "language_info": {
   "codemirror_mode": {
    "name": "ipython",
    "version": 3
   },
   "file_extension": ".py",
   "mimetype": "text/x-python",
   "name": "python",
   "nbconvert_exporter": "python",
   "pygments_lexer": "ipython3",
   "version": "3.8.8"
  }
 },
 "nbformat": 4,
 "nbformat_minor": 5
}
